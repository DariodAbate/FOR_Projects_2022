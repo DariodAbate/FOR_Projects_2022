{
  "cells": [
    {
      "cell_type": "markdown",
      "metadata": {
        "id": "4MGTWLXgf2lu"
      },
      "source": [
        "## Biogas plant\n",
        "\n",
        "You want to plan the two-year supply of raw materials for a biogas power plant. Such a plant produces energy by burning biogas, which is obtained from the bacterial fermentation of organic wastes. \n",
        "Specifically, your plant is powered by corn chopping, a residual of agro-industrial operations that you can purchase from 5 local farms. \n",
        "The table below shows the quarterly capacity of each farm for the next two years. Quantities are measured in tons.\n",
        "\n",
        "Farm|T1|T2|T3|T4|T5|T6|T7|T8\n",
        ":-|:-:|:-:|:-:|:-:|:-:|:-:|:-:|:-:\n",
        "1|700|1500|700|0|0|700|1500|0\n",
        "2|1350|0|450|0|1350|0|450|0\n",
        "3|0|1500|1500|0|0|1500|1500|0\n",
        "4|820|1560|820|0|820|1560|820|0\n",
        "5|0|680|1080|0|0|680|1080|0\n",
        "\n",
        "Due to crop rotations and corn harvesting periods, farms are unable to supply material in some quarters. Moreover the types of corn chopping provided are different, each coming with its own unitary purchase price, unitary storage cost and percentage of dry matter. The table below shows a summary of these information.\n",
        "\n",
        "Farm|Purchase price|Storage cost|Dry matter\n",
        ":-|:-:|:-:|:-:\n",
        "1|0.20|0.002|15\n",
        "2|0.18|0.012|28\n",
        "3|0.19|0.007|35\n",
        "4|0.21|0.011|37\n",
        "5|0.23|0.015|42\n",
        "\n",
        "Your biogas plant must operate by burning a mixture of corn choppings with a dry matter percentage between 20% and 40%. Under these conditions, the yield is 421.6 kWh of energy per ton of burned material. The energy produced by the plant is sold on the market at a price of 0.28 $/kWh. \n",
        "\n",
        "Due to state regulations, all biogas plants can produce a maximum of 1950 MWh of energy per quarter. You are allowed to store corn chopping in a silo, whose total capacity is of 500 tons. \n",
        "\n",
        "Plan the supply and inventory of your biogas plant with the goal of maximizing your profits (i.e., revenues minus costs)."
      ]
    },
    {
      "cell_type": "code",
      "execution_count": null,
      "metadata": {
        "id": "AXjbD65XQCeH",
        "colab": {
          "base_uri": "https://localhost:8080/",
          "height": 433
        },
        "outputId": "4375b387-8694-43dc-857f-c6c305cc91e5"
      },
      "outputs": [
        {
          "output_type": "stream",
          "name": "stdout",
          "text": [
            "Looking in indexes: https://pypi.org/simple, https://us-python.pkg.dev/colab-wheels/public/simple/\n",
            "Collecting cffi==1.15.0\n",
            "  Downloading cffi-1.15.0-cp38-cp38-manylinux_2_12_x86_64.manylinux2010_x86_64.whl (446 kB)\n",
            "\u001b[K     |████████████████████████████████| 446 kB 4.9 MB/s \n",
            "\u001b[?25hRequirement already satisfied: pycparser in /usr/local/lib/python3.8/dist-packages (from cffi==1.15.0) (2.21)\n",
            "Installing collected packages: cffi\n",
            "  Attempting uninstall: cffi\n",
            "    Found existing installation: cffi 1.15.1\n",
            "    Uninstalling cffi-1.15.1:\n",
            "      Successfully uninstalled cffi-1.15.1\n",
            "Successfully installed cffi-1.15.0\n"
          ]
        },
        {
          "output_type": "display_data",
          "data": {
            "application/vnd.colab-display-data+json": {
              "pip_warning": {
                "packages": [
                  "cffi"
                ]
              }
            }
          },
          "metadata": {}
        },
        {
          "output_type": "stream",
          "name": "stdout",
          "text": [
            "Looking in indexes: https://pypi.org/simple, https://us-python.pkg.dev/colab-wheels/public/simple/\n",
            "Collecting mip\n",
            "  Downloading mip-1.14.1-py3-none-any.whl (15.3 MB)\n",
            "\u001b[K     |████████████████████████████████| 15.3 MB 4.8 MB/s \n",
            "\u001b[?25hRequirement already satisfied: cffi==1.15.0 in /usr/local/lib/python3.8/dist-packages (from mip) (1.15.0)\n",
            "Requirement already satisfied: pycparser in /usr/local/lib/python3.8/dist-packages (from cffi==1.15.0->mip) (2.21)\n",
            "Installing collected packages: mip\n",
            "Successfully installed mip-1.14.1\n"
          ]
        }
      ],
      "source": [
        "# When using Colab, make sure you run this instruction beforehand\n",
        "!pip install --upgrade cffi==1.15.0\n",
        "import importlib\n",
        "import cffi\n",
        "importlib.reload(cffi)\n",
        "!pip install mip"
      ]
    },
    {
      "cell_type": "markdown",
      "source": [
        "### **Sets and Parameters**"
      ],
      "metadata": {
        "id": "qIR6MFASLwzp"
      }
    },
    {
      "cell_type": "code",
      "execution_count": null,
      "metadata": {
        "id": "QpCnBHFPfM8C"
      },
      "outputs": [],
      "source": [
        "from IPython.utils.tempdir import TemporaryDirectory\n",
        "import mip\n",
        "\n",
        "#Quarter capacity [tons]\n",
        "C = \\\n",
        "[[700, 1500, 700, 0, 0, 700, 1500, 0],\n",
        " [1350, 0, 450, 0, 1350, 0, 450, 0],\n",
        " [0, 1500, 1500, 0, 0, 1500, 1500, 0],\n",
        " [820, 1560, 820, 0, 820, 1560, 820, 0],\n",
        " [0, 680, 1080, 0, 0, 680, 1080, 0]]\n",
        "\n",
        "\n",
        "#unitary purchase price [$/tons]\n",
        "p = [0.20, 0.18, 0.19, 0.21, 0.23]\n",
        "\n",
        "#unitary storage cost [$/tons]\n",
        "s =[0.002, 0.012, 0.007, 0.011, 0.015]\n",
        "\n",
        "#percentage of dry matter\n",
        "d = [0.15, 0.28, 0.35, 0.37, 0.42]\n",
        "\n",
        "#yield [KWh/tons]\n",
        "b = 421.6\n",
        "\n",
        "#energy sold price [$/KWh]\n",
        "r = 0.28\n",
        "\n",
        "#max energy per quarter [KWh]\n",
        "max_E = 1950 * 1000\n",
        "\n",
        "#max capacity of silo [tons]\n",
        "max_C = 500\n",
        "\n",
        "f = len(C)\n",
        "F = range (f)\n",
        "t =len(C[0])\n",
        "T = range (t)\n",
        "T1 = range(t-1)"
      ]
    },
    {
      "cell_type": "markdown",
      "source": [
        "### Constraints"
      ],
      "metadata": {
        "id": "7tpUFCGZL5gM"
      }
    },
    {
      "cell_type": "code",
      "source": [
        "m = mip.Model()\n",
        "\n",
        "#material purchased \n",
        "x = [[m.add_var() for j in T] for i in F]\n",
        "\n",
        "#inventory level\n",
        "y = [[m.add_var() for j in T] for i in F]\n",
        "\n",
        "#material burned\n",
        "z = [[m.add_var() for j in T] for i in F]\n",
        "\n",
        "#cannot exceed the capacity of the silo\n",
        "\n",
        "[m.add_constr(mip.xsum(z[i][j] for i in F) <= max_C) for j in T]\n",
        "\n",
        "#cannot produce more than max_E\n",
        "[m.add_constr(b * mip.xsum(y[i][j] for i in F) <= max_E) for j in T]\n",
        "\n",
        "#cannot purchase more than what has been produced\n",
        "[[m.add_constr(x[i][j] <= C[i][j]) for j in T] for i in F]\n",
        "\n",
        "#constraint on the percentage of dry matter \n",
        "for j in T:\n",
        "  m.add_constr(mip.xsum(y[i][j] * d[i] for i in F) <= 0.4 * mip.xsum(y[i][j] for i in F))\n",
        "  m.add_constr(mip.xsum(y[i][j] * d[i] for i in F) >= 0.2 * mip.xsum(y[i][j] for i in F))\n",
        "\n",
        "#constraint on the storage level\n",
        "\n",
        "for i in F:\n",
        "  m.add_constr((0 + x[i][0]) == (z[i][0] + y[i][0])) #Condition when the storage is on the first quarter\n",
        "  for j in T1:  \n",
        "      m.add_constr((z[i][j] + x[i][j+1]) == (z[i][j+1] + y[i][j+1]))"
      ],
      "metadata": {
        "id": "qiGRsNO4Lfvl"
      },
      "execution_count": null,
      "outputs": []
    },
    {
      "cell_type": "markdown",
      "source": [
        "### Objective Function"
      ],
      "metadata": {
        "id": "7h7qJCnIMJwL"
      }
    },
    {
      "cell_type": "code",
      "source": [
        "#maximize the profit over the 8 quarters\n",
        "m.objective = mip.maximize(mip.xsum( \n",
        "    (r * b * mip.xsum(y[i][j] for i in F)) - \n",
        "    (mip.xsum(p[i]*x[i][j] for i in F) + mip.xsum (s[i]*z[i][j] for i in F))\n",
        "    for j in T))"
      ],
      "metadata": {
        "id": "Hzq4qbl_Lh56"
      },
      "execution_count": null,
      "outputs": []
    },
    {
      "cell_type": "markdown",
      "source": [
        "### Results"
      ],
      "metadata": {
        "id": "xiCJboc3MMfw"
      }
    },
    {
      "cell_type": "code",
      "source": [
        "m.optimize()\n",
        "\n",
        "print(\"x:\")\n",
        "for i in F:\n",
        "  for j in T:\n",
        "    print('%.f'%(x[i][j]), sep = \"\\t\", end = \" \")\n",
        "  print()\n",
        "\n",
        "\n",
        "print(\"\\n\\nobjective:\")\n",
        "print(m.objective_value)"
      ],
      "metadata": {
        "colab": {
          "base_uri": "https://localhost:8080/"
        },
        "id": "YuvLzJ7jLn6-",
        "outputId": "5fb44344-8181-44da-bcbc-9551b6eaae7c"
      },
      "execution_count": null,
      "outputs": [
        {
          "output_type": "stream",
          "name": "stdout",
          "text": [
            "x:\n",
            "700 1500 700 0 0 700 1500 0 \n",
            "1350 0 450 0 1350 0 450 0 \n",
            "0 1500 1500 0 0 1500 1500 0 \n",
            "820 1560 820 0 820 1560 820 0 \n",
            "0 565 1080 0 0 680 855 0 \n",
            "\n",
            "\n",
            "objective:\n",
            "2861373.925412714\n"
          ]
        }
      ]
    }
  ],
  "metadata": {
    "colab": {
      "provenance": []
    },
    "kernelspec": {
      "display_name": "Python 3",
      "name": "python3"
    },
    "language_info": {
      "name": "python"
    }
  },
  "nbformat": 4,
  "nbformat_minor": 0
}