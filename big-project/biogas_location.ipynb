{
  "cells": [
    {
      "cell_type": "markdown",
      "metadata": {
        "id": "0is6zsDH2sUE"
      },
      "source": [
        "# Big project\n",
        "\n",
        "## Submission\n",
        "\n",
        "Submit solutions to https://forms.office.com/e/WexY7YraJb.\n",
        "\n",
        "1.   Upload code in .ipynb file\n",
        "2.   Upload a csv containing three columns: \n",
        "*    \"ID\": the ID of the instance (1, 2, 3, ...)\n",
        "*    \"OBJ\": the objective function value obtained\n",
        "*    \"TIME\": the execution time in seconds.\n",
        "\n",
        "## Evaluation\n",
        "\n",
        "1.   Gap w.r.t. optimal solutions\n",
        "2.   Runtimes. Must be under 10 minutes for every instance. Execution times will be re-examined on a random basis.\n",
        "\n",
        "## Deadline\n",
        "\n",
        "12/01/2022 23:59 CET\n",
        "\n",
        "## Other\n",
        "\n",
        "*   4 lab points just if you deliver something that works\n",
        "*   10 points based on the quality of method\n",
        "*   NO pre-coded libraries, \n",
        "*   NO genetic algorithms \n",
        "*   NO neural networks\n",
        "*   groups of max 3 students\n",
        "\n",
        "\n"
      ]
    },
    {
      "cell_type": "markdown",
      "metadata": {
        "id": "UdlvHj_vueO5"
      },
      "source": [
        "## Biogas plants location\n",
        "\n",
        "An association of $n$ farmers wants to open $p$ plants to produce energy from biogas. \n",
        "Each plant will be opened at a farm of a member of the association and will be powered with corn chopping purchased from the farm itself or from other neighboring farms.\n",
        "\n",
        "Each farm $i$ can provide at most $c_i$ tons of corn chopping, with a percentage of dry matter $a_i$. As you may know, dry matter is the key component of corn chopping used for biogas production. In order to maintain the quality of produced energy, each plant must burn a mixture of corn chopping with a percentage of dry matter between $k_{min}$ and $k_{max}$. \n",
        "\n",
        "At most one plant can be located in each farm, and every farm can sell its corn chopping to one and only one plant.\n",
        "\n",
        "Each farm $i$ is located at coordinates $x_i$ and $y_i$, representing respectively its latitude and longitude, and the cost of moving corn chopping from a farm $i$ to a farm $j$ is proportional to the euclidean distance between the two farms (it does not depend on the actual quantity moved, since the trucks used for this transportations are sufficiently big). \n",
        "\n",
        "Under such conditions, every plant produces $Q$ kWh of energy per ton of corn chopping burned. The energy produced by each plant will be fed into the national electricity system, at a unitary price of $b$ (€/kWh). Moreover, due to state regulations, each plant must not produce more than $M$ kWh of energy.\n",
        "\n",
        "You must locate $p$ plants among the available farms and assign the farms that will supply each plant, with the goal of maximizing the total revenues of the association."
      ]
    },
    {
      "cell_type": "markdown",
      "metadata": {
        "id": "hnxGk0C12oFZ"
      },
      "source": [
        "### Sets\n",
        "*   $I$ = set of farms\n",
        "\n",
        "### Parameters\n",
        "*   $n$ &nbsp; &nbsp; &nbsp; &nbsp;  number of farms   \n",
        "*   $p$ &nbsp; &nbsp; &nbsp; &nbsp; number of plants to locate\n",
        "*   $c_i$ [ton] &nbsp; &nbsp; &nbsp; &nbsp; tons of corn chopping produced by farm  $i \\in I$ \n",
        "*   $a_i$ &nbsp; &nbsp; &nbsp; &nbsp; percentage of dry matter in chopping from farm $i \\in I$\n",
        "*   $k_{max}$ &nbsp; &nbsp; &nbsp; &nbsp; max percentage of dry matter\n",
        "*   $k_{min}$ &nbsp; &nbsp; &nbsp; &nbsp; min percentage of dry matter\n",
        "*   $x_i, y_i$ &nbsp; &nbsp; &nbsp; &nbsp; coordinates of farm $i \\in I$\n",
        "*   $d_{ij}$ [€] &nbsp; &nbsp; &nbsp; &nbsp; cost of moving chopping from farm $i\\in I$ to farm $j\\in I$\n",
        "*   $Q$ [kWh/t] &nbsp; &nbsp; &nbsp; &nbsp; energy produced by a ton of corn chopping  \n",
        "*   $b$ [€/kWh] &nbsp; &nbsp; &nbsp; &nbsp; revenue per unit of energy \n",
        "*   $M$ [kWh] &nbsp; &nbsp; &nbsp; &nbsp; max energy production\n",
        "\n",
        "### Variables\n",
        "*  $$\n",
        "    α_i = \\begin{cases} \n",
        "      1 & \\text{if  farm $i \\in I$ has a plant installed} \\\\ \n",
        "      0 & \\text{otherwise.}\n",
        "    \\end{cases}\n",
        "  $$\n",
        "\n",
        "* &nbsp; &nbsp; &nbsp; &nbsp; $β_{ij}\\ge 0$ &nbsp; &nbsp; &nbsp; &nbsp; quantity of corn chopping obtained by farm $i \\in I$ , from farms $j \\in I$  \n",
        "\n",
        "* $$\n",
        "    γ_{ij} = \\begin{cases} \n",
        "      1 & \\text{if }   β_{ij}>0\\\\ \n",
        "      0 & \\text{otherwise.}\n",
        "    \\end{cases}\n",
        "  $$\n",
        "\n",
        "###Objective function\n",
        "$$\n",
        "\\begin{equation}\n",
        "  \\max \\sum_{i \\in I}(bQ\\sum_{j \\in I}β_{ij} - \\sum_{j \\in I}d_{ij}γ_{ij})\n",
        "\\end{equation}\n",
        "$$\n",
        "\n",
        "###Constraints\n",
        "$$\n",
        "\\begin{align*}\n",
        "       \\sum_{i \\in I} α_{i} = p &&&&&&&\\text{open exactly p implants}\\\\\n",
        "       \\sum_{i \\in I} γ_{ij} \\le 1 &&&&∀ j \\in I &&&\\text{each farm j can sell at most to one and only one plant}\\\\\n",
        "        β_{ij} \\le c_{j} &&&&∀ i,j \\in I &&&\\text{cannot get more than the quantity produced}\\\\\n",
        "        γ_{ij} \\le α_{i} &&&&∀ i,j \\in I &&&\\text{can sell only to farms with plant installed}\\\\\n",
        "       Q\\sum_{i \\in I} β_{ij} \\le M &&&&∀ j \\in I &&&\\text{cannot produce more than M kWh}\\\\\n",
        "       K_{min}\\sum_{j \\in I} β_{ij} \\le \\sum_{j \\in I} β_{ij}a_{j} &&&&∀ i \\in I &&&\\text{minimum percentage of dry matter}\\\\\n",
        "       K_{max}\\sum_{j \\in I} β_{ij} \\ge \\sum_{j \\in I} β_{ij}a_{j} &&&&∀ i \\in I &&&\\text{maximum percentage of dry matter}\\\\\n",
        "\\end{align*}\n",
        "$$\n",
        "   \n",
        "\n",
        "\n",
        "\n",
        "\n"
      ]
    },
    {
      "cell_type": "markdown",
      "source": [
        "##CONSIDERAZIONI DI LERRY\n",
        "* dovremmo fare una funzione ausiliaria per il calcolo della distanza tra farm e poi metterle (magari con pandas) in una matrice che rappresenta le distanze tra una farm e l'altra (ovviamente la distanza tra se stessa sarà nulla).\n",
        "dovrebbe venire una matrice quadrata, in questo modo abbiamo una matrice di distanze che possiamo utilizzare per localizzare dove mettere le farm\n",
        "* Una farm che ospita una plant può comprare da più farm o solo da una designata? Per come lo intesa io una plant Pi è associata ad una o più farm Nj(quindi dovremmo specificare che la cardinalità di P è minore o uguale a N)\n",
        "* Analizzare l'input che ci viene dato potrebbe essere un ottimo punto di partenza per iniziare a ragionare, inoltre ogni plant è uguale come produzione, è possibile trasformare la max energy production M in un quanto corn chop serve\n",
        "facendo M/Q, quello è il massimo da usare come constraint.\n",
        "* da quello che ho capito dobbiamo organizzare i dati per creare poi un modello mip da utilizzare, penso sia questa la difficoltà grossa. I dati a noi forniti sono molto più grezzi in fondo...\n"
      ],
      "metadata": {
        "id": "hfd7ozvte9eb"
      }
    },
    {
      "cell_type": "markdown",
      "source": [],
      "metadata": {
        "id": "GI5SrvXqe1pE"
      }
    },
    {
      "cell_type": "code",
      "execution_count": 1,
      "metadata": {
        "colab": {
          "base_uri": "https://localhost:8080/"
        },
        "id": "z8gsaiSYIFw4",
        "outputId": "2d1e134f-2bdc-4be3-c7af-2a38ae8f20ed"
      },
      "outputs": [
        {
          "output_type": "stream",
          "name": "stdout",
          "text": [
            "--2022-12-27 12:31:17--  https://raw.githubusercontent.com/Daddeee/FOR_Labs_22-23/master/big-project/instances/instance_1.json\n",
            "Resolving raw.githubusercontent.com (raw.githubusercontent.com)... 185.199.111.133, 185.199.110.133, 185.199.109.133, ...\n",
            "Connecting to raw.githubusercontent.com (raw.githubusercontent.com)|185.199.111.133|:443... connected.\n",
            "HTTP request sent, awaiting response... 200 OK\n",
            "Length: 572 [text/plain]\n",
            "Saving to: ‘instance_1.json’\n",
            "\n",
            "\rinstance_1.json       0%[                    ]       0  --.-KB/s               \rinstance_1.json     100%[===================>]     572  --.-KB/s    in 0s      \n",
            "\n",
            "2022-12-27 12:31:17 (36.4 MB/s) - ‘instance_1.json’ saved [572/572]\n",
            "\n",
            "--2022-12-27 12:31:17--  https://raw.githubusercontent.com/Daddeee/FOR_Labs_22-23/master/big-project/results/instance_1.txt\n",
            "Resolving raw.githubusercontent.com (raw.githubusercontent.com)... 185.199.108.133, 185.199.109.133, 185.199.110.133, ...\n",
            "Connecting to raw.githubusercontent.com (raw.githubusercontent.com)|185.199.108.133|:443... connected.\n",
            "HTTP request sent, awaiting response... 200 OK\n",
            "Length: 18 [text/plain]\n",
            "Saving to: ‘instance_1.txt’\n",
            "\n",
            "instance_1.txt      100%[===================>]      18  --.-KB/s    in 0s      \n",
            "\n",
            "2022-12-27 12:31:18 (1.58 MB/s) - ‘instance_1.txt’ saved [18/18]\n",
            "\n",
            "--2022-12-27 12:31:18--  https://raw.githubusercontent.com/Daddeee/FOR_Labs_22-23/master/big-project/instances/instance_2.json\n",
            "Resolving raw.githubusercontent.com (raw.githubusercontent.com)... 185.199.108.133, 185.199.109.133, 185.199.110.133, ...\n",
            "Connecting to raw.githubusercontent.com (raw.githubusercontent.com)|185.199.108.133|:443... connected.\n",
            "HTTP request sent, awaiting response... 200 OK\n",
            "Length: 987 [text/plain]\n",
            "Saving to: ‘instance_2.json.3’\n",
            "\n",
            "instance_2.json.3   100%[===================>]     987  --.-KB/s    in 0s      \n",
            "\n",
            "2022-12-27 12:31:18 (63.9 MB/s) - ‘instance_2.json.3’ saved [987/987]\n",
            "\n",
            "--2022-12-27 12:31:18--  https://raw.githubusercontent.com/Daddeee/FOR_Labs_22-23/master/big-project/results/instance_2.txt\n",
            "Resolving raw.githubusercontent.com (raw.githubusercontent.com)... 185.199.111.133, 185.199.110.133, 185.199.108.133, ...\n",
            "Connecting to raw.githubusercontent.com (raw.githubusercontent.com)|185.199.111.133|:443... connected.\n",
            "HTTP request sent, awaiting response... 200 OK\n",
            "Length: 18 [text/plain]\n",
            "Saving to: ‘instance_2.txt.3’\n",
            "\n",
            "instance_2.txt.3    100%[===================>]      18  --.-KB/s    in 0s      \n",
            "\n",
            "2022-12-27 12:31:18 (1.53 MB/s) - ‘instance_2.txt.3’ saved [18/18]\n",
            "\n",
            "--2022-12-27 12:31:18--  https://raw.githubusercontent.com/Daddeee/FOR_Labs_22-23/master/big-project/instances/instance_3.json\n",
            "Resolving raw.githubusercontent.com (raw.githubusercontent.com)... 185.199.108.133, 185.199.109.133, 185.199.110.133, ...\n",
            "Connecting to raw.githubusercontent.com (raw.githubusercontent.com)|185.199.108.133|:443... connected.\n",
            "HTTP request sent, awaiting response... 200 OK\n",
            "Length: 1981 (1.9K) [text/plain]\n",
            "Saving to: ‘instance_3.json.3’\n",
            "\n",
            "instance_3.json.3   100%[===================>]   1.93K  --.-KB/s    in 0s      \n",
            "\n",
            "2022-12-27 12:31:18 (38.0 MB/s) - ‘instance_3.json.3’ saved [1981/1981]\n",
            "\n",
            "--2022-12-27 12:31:18--  https://raw.githubusercontent.com/Daddeee/FOR_Labs_22-23/master/big-project/results/instance_3.txt\n",
            "Resolving raw.githubusercontent.com (raw.githubusercontent.com)... 185.199.108.133, 185.199.109.133, 185.199.110.133, ...\n",
            "Connecting to raw.githubusercontent.com (raw.githubusercontent.com)|185.199.108.133|:443... connected.\n",
            "HTTP request sent, awaiting response... 200 OK\n",
            "Length: 18 [text/plain]\n",
            "Saving to: ‘instance_3.txt.3’\n",
            "\n",
            "instance_3.txt.3    100%[===================>]      18  --.-KB/s    in 0s      \n",
            "\n",
            "2022-12-27 12:31:18 (1.22 MB/s) - ‘instance_3.txt.3’ saved [18/18]\n",
            "\n",
            "--2022-12-27 12:31:18--  https://raw.githubusercontent.com/Daddeee/FOR_Labs_22-23/master/big-project/instances/instance_4.json\n",
            "Resolving raw.githubusercontent.com (raw.githubusercontent.com)... 185.199.108.133, 185.199.109.133, 185.199.110.133, ...\n",
            "Connecting to raw.githubusercontent.com (raw.githubusercontent.com)|185.199.108.133|:443... connected.\n",
            "HTTP request sent, awaiting response... 200 OK\n",
            "Length: 4740 (4.6K) [text/plain]\n",
            "Saving to: ‘instance_4.json.3’\n",
            "\n",
            "instance_4.json.3   100%[===================>]   4.63K  --.-KB/s    in 0s      \n",
            "\n",
            "2022-12-27 12:31:19 (64.2 MB/s) - ‘instance_4.json.3’ saved [4740/4740]\n",
            "\n",
            "--2022-12-27 12:31:19--  https://raw.githubusercontent.com/Daddeee/FOR_Labs_22-23/master/big-project/results/instance_4.txt\n",
            "Resolving raw.githubusercontent.com (raw.githubusercontent.com)... 185.199.108.133, 185.199.109.133, 185.199.110.133, ...\n",
            "Connecting to raw.githubusercontent.com (raw.githubusercontent.com)|185.199.108.133|:443... connected.\n",
            "HTTP request sent, awaiting response... 200 OK\n",
            "Length: 17 [text/plain]\n",
            "Saving to: ‘instance_4.txt.3’\n",
            "\n",
            "instance_4.txt.3    100%[===================>]      17  --.-KB/s    in 0s      \n",
            "\n",
            "2022-12-27 12:31:19 (1.11 MB/s) - ‘instance_4.txt.3’ saved [17/17]\n",
            "\n"
          ]
        }
      ],
      "source": [
        "# Clean files if present\n",
        "!rm instance_1.json\n",
        "!rm instance_1.txt\n",
        "\n",
        "# Download instance_1 (both instance and solution) directly from Github\n",
        "!wget https://raw.githubusercontent.com/Daddeee/FOR_Labs_22-23/master/big-project/instances/instance_1.json\n",
        "!wget https://raw.githubusercontent.com/Daddeee/FOR_Labs_22-23/master/big-project/results/instance_1.txt\n",
        "!wget https://raw.githubusercontent.com/Daddeee/FOR_Labs_22-23/master/big-project/instances/instance_2.json\n",
        "!wget https://raw.githubusercontent.com/Daddeee/FOR_Labs_22-23/master/big-project/results/instance_2.txt\n",
        "!wget https://raw.githubusercontent.com/Daddeee/FOR_Labs_22-23/master/big-project/instances/instance_3.json\n",
        "!wget https://raw.githubusercontent.com/Daddeee/FOR_Labs_22-23/master/big-project/results/instance_3.txt\n",
        "!wget https://raw.githubusercontent.com/Daddeee/FOR_Labs_22-23/master/big-project/instances/instance_4.json\n",
        "!wget https://raw.githubusercontent.com/Daddeee/FOR_Labs_22-23/master/big-project/results/instance_4.txt\n"
      ]
    },
    {
      "cell_type": "code",
      "source": [
        "\n",
        "\n",
        "!pip install --upgrade cffi==1.15.0\n",
        "import importlib\n",
        "import cffi\n",
        "importlib.reload(cffi)\n",
        "!pip install mip"
      ],
      "metadata": {
        "id": "_aGBg238fayv",
        "outputId": "6c9dff51-a5bb-4733-88f2-611547c12dc4",
        "colab": {
          "base_uri": "https://localhost:8080/"
        }
      },
      "execution_count": 2,
      "outputs": [
        {
          "output_type": "stream",
          "name": "stdout",
          "text": [
            "Looking in indexes: https://pypi.org/simple, https://us-python.pkg.dev/colab-wheels/public/simple/\n",
            "Requirement already satisfied: cffi==1.15.0 in /usr/local/lib/python3.8/dist-packages (1.15.0)\n",
            "Requirement already satisfied: pycparser in /usr/local/lib/python3.8/dist-packages (from cffi==1.15.0) (2.21)\n",
            "Looking in indexes: https://pypi.org/simple, https://us-python.pkg.dev/colab-wheels/public/simple/\n",
            "Requirement already satisfied: mip in /usr/local/lib/python3.8/dist-packages (1.14.2)\n",
            "Requirement already satisfied: cffi==1.15.0 in /usr/local/lib/python3.8/dist-packages (from mip) (1.15.0)\n",
            "Requirement already satisfied: pycparser in /usr/local/lib/python3.8/dist-packages (from cffi==1.15.0->mip) (2.21)\n"
          ]
        }
      ]
    },
    {
      "cell_type": "code",
      "execution_count": 3,
      "metadata": {
        "id": "_KMiMx9LIpfI"
      },
      "outputs": [],
      "source": [
        "import json\n",
        "\n",
        "# Reads a .json instance and returns it in a dictionary\n",
        "def load_instance(filename):\n",
        "  with open(filename, 'r') as f:\n",
        "    data = json.load(f)\n",
        "  return data\n",
        "\n",
        "# Reads a .txt result and returns it\n",
        "def load_result(filename):\n",
        "  with open(filename, 'r') as f:\n",
        "      result = f.read()\n",
        "  return float(result)\n"
      ]
    },
    {
      "cell_type": "code",
      "source": [
        "import mip\n",
        "import math\n",
        "from datetime import datetime\n",
        "\n",
        "\n",
        "def solve(instance):\n",
        "  I = range(inst[\"n\"])\n",
        "  M = inst[\"M\"]\n",
        "  Q = inst[\"Q\"]\n",
        "  a = inst[\"a\"]\n",
        "  b = inst[\"b\"]\n",
        "  c = inst[\"c\"]\n",
        "  kmax = inst[\"kmax\"]\n",
        "  kmin = inst[\"kmin\"]\n",
        "  p = inst[\"p\"]\n",
        "\n",
        "  #calculation of the distance matrix\n",
        "  d = [[0 if (i == j) else math.sqrt( (inst[\"points\"][i][0] - inst[\"points\"][j][0])**2 + (inst[\"points\"][i][1] - inst[\"points\"][j][1])**2  ) for i in I] for j in I]\n",
        "\n",
        "\n",
        "  m = mip.Model()\n",
        "\n",
        "  #variables\n",
        "  alpha = [m.add_var(lb=0, ub=1) for i in I]\n",
        "  beta = [[m.add_var() for i in I] for j in I] #i plant, j farm\n",
        "  gamma = [[m.add_var(lb=0, ub=1) for i in I] for j in I]\n",
        "\n",
        "  #obj func\n",
        "  m.objective = mip.maximize( mip.xsum( (b * Q * beta[i][j] - d[i][j] * gamma[i][j])  for i in I for j in I) )\n",
        "\n",
        "  #constraints\n",
        "  m.add_constr( mip.xsum( alpha[i] for i in I) == p)\n",
        "\n",
        "  for i in I:\n",
        "    for j in I:\n",
        "      m.add_constr( beta[i][j] <= c[j]*gamma[i][j] ) #constraint che gamma è 1 se b[i][j] > 0\n",
        "      m.add_constr(gamma[i][j] <=  alpha[i]) #farm can sell to plant only if plant is active\n",
        "\n",
        "\n",
        "  for i in I:\n",
        "    m.add_constr(mip.xsum( beta[i][j] * a[j] for j in I) <= kmax * mip.xsum( beta[i][j] for j in I) )\n",
        "    m.add_constr(mip.xsum( beta[i][j] * a[j] for j in I) >= kmin * mip.xsum( beta[i][j] for j in I) )\n",
        "    m.add_constr( Q * mip.xsum( beta[i][j] for j in I ) <= M)\n",
        "\n",
        "  for j in I: \n",
        "    m.add_constr( mip.xsum(gamma[i][j] for i in I) <= 1)\n",
        "  \n",
        "  status = m.optimize()\n",
        "  print(status)\n",
        "  return m.objective_value\n",
        "    \n",
        "  \n",
        "\n",
        "\n"
      ],
      "metadata": {
        "id": "GaKuruNKaemu"
      },
      "execution_count": 4,
      "outputs": []
    },
    {
      "cell_type": "code",
      "source": [
        "for k in {1, 2, 3, 4}:\n",
        "  print(\"INSTANCE #\" + str(k))\n",
        "  inst = load_instance(\"instance_\" + str(k) + \".json\")\n",
        "  res = load_result(\"instance_\" + str(k) + \".txt\")\n",
        "  print(\"start time: \" + str(datetime.now()))\n",
        "  obj = solve(inst)\n",
        "  print(\"end time: \" + str(datetime.now()))\n",
        "  gap = 100 * (obj - res) / res\n",
        "\n",
        "  print(\"result #\" + str(k) + \": {}\".format(obj))\n",
        "  print(\"expected #\" + str(k) + \": {}\".format(res))\n",
        "  print(\"gap #\" + str(k) + \": {}\".format(gap))\n",
        "  print()\n",
        "  "
      ],
      "metadata": {
        "id": "WFGAqAPgaXjM",
        "outputId": "8f9a39db-07c0-4abe-8997-f1af648e25b3",
        "colab": {
          "base_uri": "https://localhost:8080/"
        }
      },
      "execution_count": 5,
      "outputs": [
        {
          "output_type": "stream",
          "name": "stdout",
          "text": [
            "INSTANCE #1\n",
            "start time: 2022-12-27 12:31:27.351946\n",
            "OptimizationStatus.OPTIMAL\n",
            "end time: 2022-12-27 12:31:29.372889\n",
            "result #1: 1340722.2568448398\n",
            "expected #1: 1324477.6736137536\n",
            "gap #1: 1.2264897744001848\n",
            "\n",
            "INSTANCE #2\n",
            "start time: 2022-12-27 12:31:29.374693\n",
            "OptimizationStatus.OPTIMAL\n",
            "end time: 2022-12-27 12:31:29.385536\n",
            "result #2: 385611.91779212654\n",
            "expected #2: 385611.91779212654\n",
            "gap #2: 0.0\n",
            "\n",
            "INSTANCE #3\n",
            "start time: 2022-12-27 12:31:29.388766\n",
            "OptimizationStatus.OPTIMAL\n",
            "end time: 2022-12-27 12:31:29.429838\n",
            "result #3: 2358134.416096726\n",
            "expected #3: 2357066.9429236925\n",
            "gap #3: 0.04528819922735662\n",
            "\n",
            "INSTANCE #4\n",
            "start time: 2022-12-27 12:31:29.432207\n",
            "OptimizationStatus.OPTIMAL\n",
            "end time: 2022-12-27 12:31:29.675620\n",
            "result #4: 9414726.204886837\n",
            "expected #4: 9414476.549923249\n",
            "gap #4: 0.002651819910161414\n",
            "\n"
          ]
        }
      ]
    }
  ],
  "metadata": {
    "colab": {
      "provenance": []
    },
    "kernelspec": {
      "display_name": "Python 3.10.8 64-bit",
      "language": "python",
      "name": "python3"
    },
    "language_info": {
      "name": "python",
      "version": "3.10.8"
    },
    "vscode": {
      "interpreter": {
        "hash": "e7370f93d1d0cde622a1f8e1c04877d8463912d04d973331ad4851f04de6915a"
      }
    }
  },
  "nbformat": 4,
  "nbformat_minor": 0
}